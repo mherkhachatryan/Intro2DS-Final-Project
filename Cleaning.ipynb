{
 "cells": [
  {
   "cell_type": "code",
   "execution_count": 1,
   "metadata": {},
   "outputs": [],
   "source": [
    "import pandas as pd\n",
    "from sklearn.model_selection import train_test_split\n",
    "import numpy as np"
   ]
  },
  {
   "cell_type": "code",
   "execution_count": 2,
   "metadata": {},
   "outputs": [],
   "source": [
    "target = \"winner\""
   ]
  },
  {
   "cell_type": "markdown",
   "metadata": {},
   "source": [
    "**Note**:\n",
    "\n",
    "EDA is done with pandas profiling library, which can be found in repo."
   ]
  },
  {
   "cell_type": "code",
   "execution_count": 3,
   "metadata": {},
   "outputs": [],
   "source": [
    "def categorize_other(data, col_name=\"B_HomeTown\", threshold=0.3):\n",
    "    \"\"\"\n",
    "    Add other category to data\n",
    "    \"\"\"\n",
    "    limiting_qunatile = np.quantile(data[[col_name]].value_counts().values, threshold)\n",
    "    g = data.groupby(col_name)[col_name].transform('size')\n",
    "    data.loc[g <= limiting_qunatile, col_name] = 'Other'\n",
    "    return data "
   ]
  },
  {
   "cell_type": "code",
   "execution_count": 4,
   "metadata": {},
   "outputs": [],
   "source": [
    "data = pd.read_csv(\"data.csv\", usecols=list(range(100))+[894])\n",
    "id_columns = [\"B_Name\", \"B_ID\"]\n",
    "\n",
    "data.drop(id_columns, axis=1,  inplace=True)   # drop ID columns those are useless"
   ]
  },
  {
   "cell_type": "code",
   "execution_count": 5,
   "metadata": {},
   "outputs": [],
   "source": [
    "cat_columns = data.select_dtypes(include=\"object\").columns\n",
    "numeric_columns = data.select_dtypes(exclude=\"object\").columns"
   ]
  },
  {
   "cell_type": "code",
   "execution_count": 6,
   "metadata": {},
   "outputs": [],
   "source": [
    "# add other category to categorical variables which are not target\n",
    "for col_name in cat_columns:\n",
    "    if col_name != target:\n",
    "        data = categorize_other(data, col_name)"
   ]
  },
  {
   "cell_type": "markdown",
   "metadata": {},
   "source": [
    "## Missing Values"
   ]
  },
  {
   "cell_type": "markdown",
   "metadata": {},
   "source": [
    "For age fill by person weight and Height"
   ]
  },
  {
   "cell_type": "code",
   "execution_count": 7,
   "metadata": {},
   "outputs": [],
   "source": [
    "def fill_age_nan(data, prefix=\"B\"):\n",
    "    \"\"\"Change prefix to R for different fighters\"\"\"\n",
    "    data[f\"{prefix}_Age\"] = data[f\"{prefix}_Age\"].fillna(data.groupby(\n",
    "        [f\"{prefix}_Height\", f\"{prefix}_Weight\"])[f\"{prefix}_Age\"].transform(\"mean\"))\n",
    "    return data"
   ]
  },
  {
   "cell_type": "code",
   "execution_count": 8,
   "metadata": {},
   "outputs": [],
   "source": [
    "data = fill_age_nan(data, prefix=\"B\")"
   ]
  },
  {
   "cell_type": "markdown",
   "metadata": {},
   "source": [
    "As heights come from normal distribution we can fill by `mean`"
   ]
  },
  {
   "cell_type": "code",
   "execution_count": 9,
   "metadata": {},
   "outputs": [],
   "source": [
    "def fill_height_nan(data, prefix=\"B\"):\n",
    "    data[f\"{prefix}_Height\"].fillna(data[f\"{prefix}_Height\"].mean(), inplace=True) \n",
    "    return data"
   ]
  },
  {
   "cell_type": "code",
   "execution_count": 10,
   "metadata": {},
   "outputs": [],
   "source": [
    "data = fill_height_nan(data, prefix=\"B\")"
   ]
  },
  {
   "cell_type": "markdown",
   "metadata": {},
   "source": [
    "These columns which have strikes or Grappling  in there can have discrete values, those these are filled not mean but median.\n"
   ]
  },
  {
   "cell_type": "code",
   "execution_count": 11,
   "metadata": {},
   "outputs": [],
   "source": [
    "strikes_columns = [i for i in numeric_columns if i.find(\"Strikes\") !=-1]\n",
    "data[strikes_columns] = data[strikes_columns].fillna(data[strikes_columns].median())\n",
    "grampling_columns = [i for i in numeric_columns if i.find(\"Grappling\") !=-1]\n",
    "data[grampling_columns] = data[grampling_columns].fillna(data[grampling_columns].median())"
   ]
  },
  {
   "cell_type": "markdown",
   "metadata": {},
   "source": [
    "Nan values in columns representing times can be filled by mean value, becuase time can also come from normal distribution.  "
   ]
  },
  {
   "cell_type": "code",
   "execution_count": 12,
   "metadata": {},
   "outputs": [],
   "source": [
    "time_columns = [i for i in numeric_columns if i.find(\"Time\") !=-1]\n",
    "data[time_columns] = data[time_columns].fillna(data[time_columns].mean())"
   ]
  },
  {
   "cell_type": "markdown",
   "metadata": {},
   "source": [
    "## Binarize"
   ]
  },
  {
   "cell_type": "code",
   "execution_count": 13,
   "metadata": {},
   "outputs": [],
   "source": [
    "def binarize_column(data, prefix=\"B\", q=4):\n",
    "    data[f\"{prefix}_Weight_bin\"] = pd.qcut(data[f\"{prefix}_Weight\"], q=q)\n",
    "    data.drop(f\"{prefix}_Weight\", axis=1, inplace=True)\n",
    "    return data \n"
   ]
  },
  {
   "cell_type": "code",
   "execution_count": 14,
   "metadata": {},
   "outputs": [],
   "source": [
    "data = binarize_column(data, prefix=\"B\", q=4)"
   ]
  },
  {
   "cell_type": "markdown",
   "metadata": {},
   "source": [
    "## One hot encoding"
   ]
  },
  {
   "cell_type": "code",
   "execution_count": 15,
   "metadata": {},
   "outputs": [],
   "source": [
    "dummies = pd.get_dummies(data[[cat for cat in cat_columns if cat!=target]])\n",
    "data.drop([cat for cat in cat_columns if cat!=target],axis=1, inplace=True)"
   ]
  },
  {
   "cell_type": "code",
   "execution_count": 16,
   "metadata": {},
   "outputs": [],
   "source": [
    "data = pd.concat([data, dummies], axis=1)"
   ]
  },
  {
   "cell_type": "markdown",
   "metadata": {},
   "source": [
    "## Split and save"
   ]
  },
  {
   "cell_type": "code",
   "execution_count": 17,
   "metadata": {},
   "outputs": [],
   "source": [
    "train, test = train_test_split(data, test_size=0.3, random_state=42)"
   ]
  },
  {
   "cell_type": "code",
   "execution_count": 18,
   "metadata": {},
   "outputs": [],
   "source": [
    "train.to_csv(\"train.csv\", index=False)\n",
    "test.to_csv(\"test.csv\", index=False)"
   ]
  }
 ],
 "metadata": {
  "kernelspec": {
   "display_name": "Python 3",
   "language": "python",
   "name": "python3"
  },
  "language_info": {
   "codemirror_mode": {
    "name": "ipython",
    "version": 3
   },
   "file_extension": ".py",
   "mimetype": "text/x-python",
   "name": "python",
   "nbconvert_exporter": "python",
   "pygments_lexer": "ipython3",
   "version": "3.8.5"
  }
 },
 "nbformat": 4,
 "nbformat_minor": 4
}
